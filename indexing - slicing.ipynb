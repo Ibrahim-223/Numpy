{
 "cells": [
  {
   "cell_type": "markdown",
   "id": "eaf26292-44ba-47bb-a735-a67bf0b1fbf0",
   "metadata": {},
   "source": [
    "# create a 2D array"
   ]
  },
  {
   "cell_type": "code",
   "execution_count": 1,
   "id": "a416688a-99a3-41a9-a0df-910855539e00",
   "metadata": {},
   "outputs": [
    {
     "name": "stdout",
     "output_type": "stream",
     "text": [
      "[[10, 20, 30], [40, 50, 60]]\n"
     ]
    }
   ],
   "source": [
    "lst = [[10, 20, 30],[40, 50, 60]]\n",
    "print(lst)"
   ]
  },
  {
   "cell_type": "code",
   "execution_count": 5,
   "id": "c5174726-3766-42c6-b019-8cafbfe1f217",
   "metadata": {},
   "outputs": [],
   "source": [
    "import numpy as np"
   ]
  },
  {
   "cell_type": "code",
   "execution_count": 11,
   "id": "3954b3e2-9db4-4a45-b4d3-336424b02305",
   "metadata": {},
   "outputs": [
    {
     "name": "stdout",
     "output_type": "stream",
     "text": [
      "[[10 20 30]\n",
      " [40 50 60]]\n"
     ]
    }
   ],
   "source": [
    "x = np.array(lst)\n",
    "print(x)"
   ]
  },
  {
   "cell_type": "code",
   "execution_count": 17,
   "id": "3f6ab6b2-23e0-4752-88b1-5fc25813d942",
   "metadata": {},
   "outputs": [],
   "source": [
    "#[40, 50, 60] access only this line"
   ]
  },
  {
   "cell_type": "code",
   "execution_count": 49,
   "id": "b732be40-e283-44bd-af5e-c6eadeb89b65",
   "metadata": {},
   "outputs": [
    {
     "data": {
      "text/plain": [
       "array([50])"
      ]
     },
     "execution_count": 49,
     "metadata": {},
     "output_type": "execute_result"
    }
   ],
   "source": [
    "x[1::,1] #access 50"
   ]
  },
  {
   "cell_type": "code",
   "execution_count": 57,
   "id": "bbfb3f2e-af11-4ec9-9d19-bf1744d85e8a",
   "metadata": {},
   "outputs": [
    {
     "data": {
      "text/plain": [
       "array([[10, 20],\n",
       "       [40, 50]])"
      ]
     },
     "execution_count": 57,
     "metadata": {},
     "output_type": "execute_result"
    }
   ],
   "source": [
    "x[0:2, 0:2]"
   ]
  },
  {
   "cell_type": "code",
   "execution_count": 63,
   "id": "3040768e-5e5d-4d41-a468-2f592387339d",
   "metadata": {},
   "outputs": [
    {
     "data": {
      "text/plain": [
       "array([60])"
      ]
     },
     "execution_count": 63,
     "metadata": {},
     "output_type": "execute_result"
    }
   ],
   "source": [
    "x[1,2::]"
   ]
  },
  {
   "cell_type": "markdown",
   "id": "1df592cb-3b06-45d1-9dab-ec2aa4a08ed5",
   "metadata": {},
   "source": [
    "# create 3D array"
   ]
  },
  {
   "cell_type": "code",
   "execution_count": 77,
   "id": "345cae5f-c7f1-4675-8c21-8ea471b24525",
   "metadata": {},
   "outputs": [],
   "source": [
    "import numpy as np"
   ]
  },
  {
   "cell_type": "code",
   "execution_count": 82,
   "id": "494a5b1f-f27e-4406-89c0-8eb7ed959c95",
   "metadata": {},
   "outputs": [],
   "source": [
    "a = np.arange(12)"
   ]
  },
  {
   "cell_type": "code",
   "execution_count": 85,
   "id": "2cc288bd-d2ad-4a63-9291-326eb32d78ab",
   "metadata": {},
   "outputs": [
    {
     "name": "stdout",
     "output_type": "stream",
     "text": [
      "[[ 0  1  2  3]\n",
      " [ 4  5  6  7]\n",
      " [ 8  9 10 11]]\n"
     ]
    }
   ],
   "source": [
    "b = a.reshape(3,4)\n",
    "print(b)"
   ]
  },
  {
   "cell_type": "code",
   "execution_count": null,
   "id": "69a0d47c-fcbe-42be-aa20-68ae00fa5511",
   "metadata": {},
   "outputs": [],
   "source": []
  },
  {
   "cell_type": "code",
   "execution_count": 87,
   "id": "b3cb8fd8-97fa-4d21-b9c1-3827eab4eca5",
   "metadata": {},
   "outputs": [
    {
     "name": "stdout",
     "output_type": "stream",
     "text": [
      "[ 0  1  2  3  4  5  6  7  8  9 10 11 12 13 14 15 16 17 18 19 20 21 22 23]\n"
     ]
    }
   ],
   "source": [
    "x = np.arange(24)\n",
    "print(x)"
   ]
  },
  {
   "cell_type": "code",
   "execution_count": 95,
   "id": "56d73dec-3785-4602-8499-f69af43b4d2b",
   "metadata": {},
   "outputs": [
    {
     "name": "stdout",
     "output_type": "stream",
     "text": [
      "[[[ 0  1  2  3]\n",
      "  [ 4  5  6  7]]\n",
      "\n",
      " [[ 8  9 10 11]\n",
      "  [12 13 14 15]]\n",
      "\n",
      " [[16 17 18 19]\n",
      "  [20 21 22 23]]]\n"
     ]
    },
    {
     "data": {
      "text/plain": [
       "(3, 2, 4)"
      ]
     },
     "execution_count": 95,
     "metadata": {},
     "output_type": "execute_result"
    }
   ],
   "source": [
    "y = x.reshape(3,2,4)\n",
    "print(y)\n",
    "np.shape(y)"
   ]
  },
  {
   "cell_type": "markdown",
   "id": "ddfdc1d7-6f55-45e4-bc88-1a8d3f86b249",
   "metadata": {},
   "source": [
    "# indexing\n",
    "### y[layer]\n",
    "### y[layer, row]\n",
    "### y[layer, row, column]"
   ]
  },
  {
   "cell_type": "code",
   "execution_count": 96,
   "id": "1d59a0d6-7101-4954-952e-31163120da9d",
   "metadata": {},
   "outputs": [
    {
     "data": {
      "text/plain": [
       "array([[0, 1, 2, 3],\n",
       "       [4, 5, 6, 7]])"
      ]
     },
     "execution_count": 96,
     "metadata": {},
     "output_type": "execute_result"
    }
   ],
   "source": [
    "# access first layer\n",
    "y[0] "
   ]
  },
  {
   "cell_type": "code",
   "execution_count": 100,
   "id": "cc7e21d9-5b16-4289-b92f-fe58ad5f9819",
   "metadata": {},
   "outputs": [
    {
     "data": {
      "text/plain": [
       "array([[16, 17, 18, 19],\n",
       "       [20, 21, 22, 23]])"
      ]
     },
     "execution_count": 100,
     "metadata": {},
     "output_type": "execute_result"
    }
   ],
   "source": [
    "# access last layer\n",
    "y[-1]\n",
    "y[2]"
   ]
  },
  {
   "cell_type": "code",
   "execution_count": 102,
   "id": "10fdbf7c-576f-47a4-9c48-bdb5fd7d4554",
   "metadata": {},
   "outputs": [
    {
     "data": {
      "text/plain": [
       "array([[ 8,  9, 10, 11],\n",
       "       [12, 13, 14, 15]])"
      ]
     },
     "execution_count": 102,
     "metadata": {},
     "output_type": "execute_result"
    }
   ],
   "source": [
    "# access middle layer\n",
    "y[1]\n",
    "y[-2]"
   ]
  },
  {
   "cell_type": "code",
   "execution_count": 103,
   "id": "9e390aaa-ac9f-4ea8-bc05-5ef3bc5a3df7",
   "metadata": {},
   "outputs": [
    {
     "data": {
      "text/plain": [
       "array([[[ 0,  1,  2,  3],\n",
       "        [ 4,  5,  6,  7]],\n",
       "\n",
       "       [[ 8,  9, 10, 11],\n",
       "        [12, 13, 14, 15]],\n",
       "\n",
       "       [[16, 17, 18, 19],\n",
       "        [20, 21, 22, 23]]])"
      ]
     },
     "execution_count": 103,
     "metadata": {},
     "output_type": "execute_result"
    }
   ],
   "source": [
    "y"
   ]
  },
  {
   "cell_type": "code",
   "execution_count": 107,
   "id": "cff16eef-87ef-4315-8e09-9c91aa5ec983",
   "metadata": {},
   "outputs": [
    {
     "data": {
      "text/plain": [
       "array([ 8,  9, 10, 11])"
      ]
     },
     "execution_count": 107,
     "metadata": {},
     "output_type": "execute_result"
    }
   ],
   "source": [
    "# first raw second layer\n",
    "y[1,0]"
   ]
  },
  {
   "cell_type": "code",
   "execution_count": 109,
   "id": "cc35e662-6c90-4b71-98f8-229c8d1e74ab",
   "metadata": {},
   "outputs": [
    {
     "data": {
      "text/plain": [
       "array([[[ 0,  1,  2,  3],\n",
       "        [ 4,  5,  6,  7]],\n",
       "\n",
       "       [[ 8,  9, 10, 11],\n",
       "        [12, 13, 14, 15]]])"
      ]
     },
     "execution_count": 109,
     "metadata": {},
     "output_type": "execute_result"
    }
   ],
   "source": [
    "# first 2 layer\n",
    "y[0:2]"
   ]
  },
  {
   "cell_type": "code",
   "execution_count": 111,
   "id": "8e9f726f-9e12-4ddc-9720-78340f9fd47e",
   "metadata": {},
   "outputs": [
    {
     "data": {
      "text/plain": [
       "array([[[16, 17, 18, 19],\n",
       "        [20, 21, 22, 23]],\n",
       "\n",
       "       [[ 8,  9, 10, 11],\n",
       "        [12, 13, 14, 15]],\n",
       "\n",
       "       [[ 0,  1,  2,  3],\n",
       "        [ 4,  5,  6,  7]]])"
      ]
     },
     "execution_count": 111,
     "metadata": {},
     "output_type": "execute_result"
    }
   ],
   "source": [
    "#reverse a layer\n",
    "y[::-1]"
   ]
  },
  {
   "cell_type": "markdown",
   "id": "1e973535-c678-496e-b8ee-1c7bf75f8f6a",
   "metadata": {},
   "source": [
    "# Slicing\n"
   ]
  },
  {
   "cell_type": "code",
   "execution_count": 113,
   "id": "942c7df9-89dc-4c66-948d-396c81189b5f",
   "metadata": {},
   "outputs": [],
   "source": [
    "# x[layer_slicing]\n",
    "# x[start:stop:step]\n",
    "\n",
    "# x[layer_slicing, raw_slicing]\n",
    "# x[start:stop:step, start:stop:step]\n",
    "\n",
    "# x[layer_slicing, raw_slicing, column_slicing]\n",
    "# x[start:stop:step, start:stop:step, start:stop:step]"
   ]
  },
  {
   "cell_type": "code",
   "execution_count": 115,
   "id": "adb249a8-5f7c-45e6-9206-562a759a2207",
   "metadata": {},
   "outputs": [
    {
     "name": "stdout",
     "output_type": "stream",
     "text": [
      "[ 0  1  2  3  4  5  6  7  8  9 10 11 12 13 14 15 16 17 18 19 20 21 22 23\n",
      " 24 25 26 27 28 29 30 31 32 33 34 35]\n"
     ]
    }
   ],
   "source": [
    "c = np.arange(36)\n",
    "print(c)"
   ]
  },
  {
   "cell_type": "code",
   "execution_count": 119,
   "id": "a14bea5c-b641-41f7-8feb-3f0ab64aeb5f",
   "metadata": {},
   "outputs": [
    {
     "name": "stdout",
     "output_type": "stream",
     "text": [
      "[[[ 0  1  2]\n",
      "  [ 3  4  5]\n",
      "  [ 6  7  8]]\n",
      "\n",
      " [[ 9 10 11]\n",
      "  [12 13 14]\n",
      "  [15 16 17]]\n",
      "\n",
      " [[18 19 20]\n",
      "  [21 22 23]\n",
      "  [24 25 26]]\n",
      "\n",
      " [[27 28 29]\n",
      "  [30 31 32]\n",
      "  [33 34 35]]]\n"
     ]
    }
   ],
   "source": [
    "d = c.reshape(4,3,3)\n",
    "print(d)  "
   ]
  },
  {
   "cell_type": "code",
   "execution_count": 123,
   "id": "2ae0fe39-37ce-41c9-8677-6ed097da1c1f",
   "metadata": {},
   "outputs": [
    {
     "data": {
      "text/plain": [
       "array([[[ 0,  1,  2],\n",
       "        [ 3,  4,  5],\n",
       "        [ 6,  7,  8]],\n",
       "\n",
       "       [[ 9, 10, 11],\n",
       "        [12, 13, 14],\n",
       "        [15, 16, 17]]])"
      ]
     },
     "execution_count": 123,
     "metadata": {},
     "output_type": "execute_result"
    }
   ],
   "source": [
    "# layer_slicing\n",
    "# x[start:stop:step]\n",
    "#access first 2 layer\n",
    "d[0:2:]"
   ]
  },
  {
   "cell_type": "code",
   "execution_count": 137,
   "id": "6985f7ea-2f48-4cee-b998-2088135704fa",
   "metadata": {},
   "outputs": [
    {
     "data": {
      "text/plain": [
       "array([[[18, 19, 20],\n",
       "        [21, 22, 23],\n",
       "        [24, 25, 26]],\n",
       "\n",
       "       [[27, 28, 29],\n",
       "        [30, 31, 32],\n",
       "        [33, 34, 35]]])"
      ]
     },
     "execution_count": 137,
     "metadata": {},
     "output_type": "execute_result"
    }
   ],
   "source": [
    "#access last 2 layers\n",
    "d[2:4:]"
   ]
  },
  {
   "cell_type": "code",
   "execution_count": 138,
   "id": "a217bc14-abf6-46a3-b651-fded32dc18af",
   "metadata": {},
   "outputs": [
    {
     "data": {
      "text/plain": [
       "array([[ 9, 10, 11],\n",
       "       [12, 13, 14],\n",
       "       [15, 16, 17]])"
      ]
     },
     "execution_count": 138,
     "metadata": {},
     "output_type": "execute_result"
    }
   ],
   "source": [
    "#access only second layer\n",
    "d[1]"
   ]
  },
  {
   "cell_type": "code",
   "execution_count": 139,
   "id": "8151d0f1-2928-4338-a049-6722a31a31b7",
   "metadata": {},
   "outputs": [
    {
     "data": {
      "text/plain": [
       "array([[[ 0,  1,  2],\n",
       "        [ 3,  4,  5],\n",
       "        [ 6,  7,  8]],\n",
       "\n",
       "       [[ 9, 10, 11],\n",
       "        [12, 13, 14],\n",
       "        [15, 16, 17]],\n",
       "\n",
       "       [[18, 19, 20],\n",
       "        [21, 22, 23],\n",
       "        [24, 25, 26]],\n",
       "\n",
       "       [[27, 28, 29],\n",
       "        [30, 31, 32],\n",
       "        [33, 34, 35]]])"
      ]
     },
     "execution_count": 139,
     "metadata": {},
     "output_type": "execute_result"
    }
   ],
   "source": [
    "# x[layer_slicing, raw_slicing]\n",
    "# x[start:stop:step, start:stop:step]\n",
    "d"
   ]
  },
  {
   "cell_type": "code",
   "execution_count": 141,
   "id": "3c673ad1-0a71-4a85-9e9d-d7a994426458",
   "metadata": {},
   "outputs": [
    {
     "data": {
      "text/plain": [
       "array([12, 13, 14])"
      ]
     },
     "execution_count": 141,
     "metadata": {},
     "output_type": "execute_result"
    }
   ],
   "source": [
    "#second layers second raw\n",
    "d[1,1]"
   ]
  },
  {
   "cell_type": "code",
   "execution_count": 143,
   "id": "3b1d0f2d-141a-4807-9d9b-9639959b89d7",
   "metadata": {},
   "outputs": [
    {
     "data": {
      "text/plain": [
       "array([33, 34, 35])"
      ]
     },
     "execution_count": 143,
     "metadata": {},
     "output_type": "execute_result"
    }
   ],
   "source": [
    "#fourth layers third raw\n",
    "d[3,2]"
   ]
  },
  {
   "cell_type": "code",
   "execution_count": 146,
   "id": "0e84ff1f-411c-4728-a15a-aa2917b4bc17",
   "metadata": {},
   "outputs": [
    {
     "data": {
      "text/plain": [
       "array([18, 19, 20])"
      ]
     },
     "execution_count": 146,
     "metadata": {},
     "output_type": "execute_result"
    }
   ],
   "source": [
    "#third layer first raw\n",
    "d[2,0]"
   ]
  },
  {
   "cell_type": "code",
   "execution_count": 147,
   "id": "5244344e-c75b-43ab-967f-f04b6f41fcae",
   "metadata": {},
   "outputs": [
    {
     "data": {
      "text/plain": [
       "array([[[ 0,  1,  2],\n",
       "        [ 3,  4,  5],\n",
       "        [ 6,  7,  8]],\n",
       "\n",
       "       [[ 9, 10, 11],\n",
       "        [12, 13, 14],\n",
       "        [15, 16, 17]],\n",
       "\n",
       "       [[18, 19, 20],\n",
       "        [21, 22, 23],\n",
       "        [24, 25, 26]],\n",
       "\n",
       "       [[27, 28, 29],\n",
       "        [30, 31, 32],\n",
       "        [33, 34, 35]]])"
      ]
     },
     "execution_count": 147,
     "metadata": {},
     "output_type": "execute_result"
    }
   ],
   "source": [
    "# x[layer_slicing, raw_slicing, column_slicing]\n",
    "# x[start:stop:step, start:stop:step, start:stop:step]\n",
    "d"
   ]
  },
  {
   "cell_type": "code",
   "execution_count": 152,
   "id": "186176ec-5a69-4ecc-bd4a-492364a56872",
   "metadata": {},
   "outputs": [
    {
     "data": {
      "text/plain": [
       "np.int64(4)"
      ]
     },
     "execution_count": 152,
     "metadata": {},
     "output_type": "execute_result"
    }
   ],
   "source": [
    "#access 4\n",
    "d[0, 1, 1]"
   ]
  },
  {
   "cell_type": "code",
   "execution_count": 155,
   "id": "b460d170-0d14-4409-a495-2923ae4ce2e8",
   "metadata": {},
   "outputs": [
    {
     "data": {
      "text/plain": [
       "np.int64(15)"
      ]
     },
     "execution_count": 155,
     "metadata": {},
     "output_type": "execute_result"
    }
   ],
   "source": [
    "#access 15\n",
    "d[1,2,0]"
   ]
  },
  {
   "cell_type": "code",
   "execution_count": 158,
   "id": "facbe685-7511-47e6-ac9d-a8b0e67598bd",
   "metadata": {},
   "outputs": [
    {
     "data": {
      "text/plain": [
       "np.int64(35)"
      ]
     },
     "execution_count": 158,
     "metadata": {},
     "output_type": "execute_result"
    }
   ],
   "source": [
    "#access 35\n",
    "d[3, 2, 2]"
   ]
  },
  {
   "cell_type": "code",
   "execution_count": 162,
   "id": "f41ab0df-6368-4b3c-b112-57c1fd878154",
   "metadata": {},
   "outputs": [
    {
     "data": {
      "text/plain": [
       "array([22, 23])"
      ]
     },
     "execution_count": 162,
     "metadata": {},
     "output_type": "execute_result"
    }
   ],
   "source": [
    "# [22:23]\n",
    "d[2, 1, 1::]"
   ]
  },
  {
   "cell_type": "code",
   "execution_count": 175,
   "id": "3b83e03d-3850-48b8-aeb1-067380fbe60c",
   "metadata": {},
   "outputs": [
    {
     "data": {
      "text/plain": [
       "array([[[16, 17]],\n",
       "\n",
       "       [[25, 26]]])"
      ]
     },
     "execution_count": 175,
     "metadata": {},
     "output_type": "execute_result"
    }
   ],
   "source": [
    "# [16,17]\n",
    "# [25,26]\n",
    "d[1:3, 2::, 1::]"
   ]
  },
  {
   "cell_type": "code",
   "execution_count": 184,
   "id": "5ec255b0-3d46-4b28-be9e-283ae2b0e6a5",
   "metadata": {},
   "outputs": [
    {
     "data": {
      "text/plain": [
       "array([[[ 3,  5]],\n",
       "\n",
       "       [[30, 32]]])"
      ]
     },
     "execution_count": 184,
     "metadata": {},
     "output_type": "execute_result"
    }
   ],
   "source": [
    "# [3:5]\n",
    "# [30:32]\n",
    "d[0:4:3, 1:2:1, 0:3:2]"
   ]
  },
  {
   "cell_type": "code",
   "execution_count": 189,
   "id": "544accb7-9611-4b14-a3e1-f748da6087e8",
   "metadata": {},
   "outputs": [
    {
     "name": "stdout",
     "output_type": "stream",
     "text": [
      "[ 0  1  2  3  4  5  6  7  8  9 10 11 12 13 14 15 16 17 18 19 20 21 22 23\n",
      " 24 25 26 27 28 29 30 31 32 33 34 35 36 37 38 39 40 41 42 43 44 45 46 47]\n"
     ]
    }
   ],
   "source": [
    "q = np.arange(48)\n",
    "print(q)"
   ]
  },
  {
   "cell_type": "code",
   "execution_count": 196,
   "id": "e9f78a28-08c6-4fca-bea5-a9c2b555d949",
   "metadata": {},
   "outputs": [
    {
     "name": "stdout",
     "output_type": "stream",
     "text": [
      "[[[ 0  1  2  3]\n",
      "  [ 4  5  6  7]]\n",
      "\n",
      " [[ 8  9 10 11]\n",
      "  [12 13 14 15]]\n",
      "\n",
      " [[16 17 18 19]\n",
      "  [20 21 22 23]]\n",
      "\n",
      " [[24 25 26 27]\n",
      "  [28 29 30 31]]\n",
      "\n",
      " [[32 33 34 35]\n",
      "  [36 37 38 39]]\n",
      "\n",
      " [[40 41 42 43]\n",
      "  [44 45 46 47]]]\n"
     ]
    }
   ],
   "source": [
    "r = q.reshape(6,2,4)\n",
    "print(r)"
   ]
  },
  {
   "cell_type": "code",
   "execution_count": 203,
   "id": "9d9640e2-3276-46c7-bf16-cc5f0da6677f",
   "metadata": {},
   "outputs": [
    {
     "data": {
      "text/plain": [
       "array([[[20, 21]],\n",
       "\n",
       "       [[44, 45]]])"
      ]
     },
     "execution_count": 203,
     "metadata": {},
     "output_type": "execute_result"
    }
   ],
   "source": [
    "# [20:21]\n",
    "# [44:45]\n",
    "r[2:6:3, 1::, 0:2]"
   ]
  },
  {
   "cell_type": "code",
   "execution_count": 227,
   "id": "da585998-e2ea-436b-a607-a38e90943dae",
   "metadata": {},
   "outputs": [
    {
     "data": {
      "text/plain": [
       "array([[ 1,  2],\n",
       "       [41, 42]])"
      ]
     },
     "execution_count": 227,
     "metadata": {},
     "output_type": "execute_result"
    }
   ],
   "source": [
    "# [1:2]\n",
    "# [41:42]\n",
    "r[0:6:5, 0, 1:3:1]"
   ]
  },
  {
   "cell_type": "code",
   "execution_count": 228,
   "id": "8cf86dfb-bd57-41eb-a5cf-fb087e0108de",
   "metadata": {},
   "outputs": [
    {
     "data": {
      "text/plain": [
       "array([[12, 15],\n",
       "       [44, 47]])"
      ]
     },
     "execution_count": 228,
     "metadata": {},
     "output_type": "execute_result"
    }
   ],
   "source": [
    "# [12:15]\n",
    "# [44:47]\n",
    "r[1:6:4, 1, 0::3]"
   ]
  },
  {
   "cell_type": "code",
   "execution_count": 231,
   "id": "59b4f8fa-23fe-479a-a695-71c054111f4b",
   "metadata": {},
   "outputs": [
    {
     "data": {
      "text/plain": [
       "array([[[ 0,  1,  2,  3],\n",
       "        [ 4,  5,  6,  7]],\n",
       "\n",
       "       [[ 8,  9, 10, 11],\n",
       "        [12, 13, 14, 15]],\n",
       "\n",
       "       [[16, 17, 18, 19],\n",
       "        [20, 21, 22, 23]],\n",
       "\n",
       "       [[24, 25, 26, 27],\n",
       "        [28, 29, 30, 31]],\n",
       "\n",
       "       [[32, 33, 34, 35],\n",
       "        [36, 37, 38, 39]],\n",
       "\n",
       "       [[40, 41, 42, 43],\n",
       "        [44, 45, 46, 47]]])"
      ]
     },
     "execution_count": 231,
     "metadata": {},
     "output_type": "execute_result"
    }
   ],
   "source": [
    "r"
   ]
  },
  {
   "cell_type": "code",
   "execution_count": 241,
   "id": "d84f4b94-6c1b-4b18-b780-2075b30f4129",
   "metadata": {},
   "outputs": [
    {
     "data": {
      "text/plain": [
       "array([[ 1,  2,  3],\n",
       "       [33, 34, 35]])"
      ]
     },
     "execution_count": 241,
     "metadata": {},
     "output_type": "execute_result"
    }
   ],
   "source": [
    "# [1:2:3]\n",
    "# [33:34:35]\n",
    "r[0:5:4, 0, 1:]"
   ]
  },
  {
   "cell_type": "code",
   "execution_count": null,
   "id": "9186fae4-1d1f-4346-91aa-ef26e5f894aa",
   "metadata": {},
   "outputs": [],
   "source": []
  },
  {
   "cell_type": "code",
   "execution_count": null,
   "id": "2a2ea8a2-8463-4555-b213-8670efdf5405",
   "metadata": {},
   "outputs": [],
   "source": []
  }
 ],
 "metadata": {
  "kernelspec": {
   "display_name": "Python [conda env:base] *",
   "language": "python",
   "name": "conda-base-py"
  },
  "language_info": {
   "codemirror_mode": {
    "name": "ipython",
    "version": 3
   },
   "file_extension": ".py",
   "mimetype": "text/x-python",
   "name": "python",
   "nbconvert_exporter": "python",
   "pygments_lexer": "ipython3",
   "version": "3.13.5"
  }
 },
 "nbformat": 4,
 "nbformat_minor": 5
}
