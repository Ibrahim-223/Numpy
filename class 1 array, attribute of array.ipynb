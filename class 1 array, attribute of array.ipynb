{
 "cells": [
  {
   "cell_type": "code",
   "execution_count": 1,
   "id": "c063eae5-2f28-45c1-a52c-ba83fccb2479",
   "metadata": {},
   "outputs": [
    {
     "name": "stdout",
     "output_type": "stream",
     "text": [
      "2.3.3\n"
     ]
    }
   ],
   "source": [
    "import numpy as np\n",
    "print(np.__version__)"
   ]
  },
  {
   "cell_type": "code",
   "execution_count": 42,
   "id": "e7dc44ff-01f8-48da-a3cf-76003c029639",
   "metadata": {},
   "outputs": [
    {
     "name": "stdout",
     "output_type": "stream",
     "text": [
      "creating a array using numpy\n",
      "1)1D array \n",
      "2)2D array\n",
      "3)3D array\n"
     ]
    }
   ],
   "source": [
    "print(\"creating a array using numpy\")\n",
    "print(\"1)1D array \\n2)2D array\\n3)3D array\")"
   ]
  },
  {
   "cell_type": "code",
   "execution_count": 4,
   "id": "4152567c-a00a-4208-a7cd-1ddaf5ef8f76",
   "metadata": {},
   "outputs": [
    {
     "name": "stdout",
     "output_type": "stream",
     "text": [
      "1D array\n",
      "[1 2 3 4 5] <class 'numpy.ndarray'>\n"
     ]
    }
   ],
   "source": [
    "print(\"1D array\")  #1-D array\n",
    "arr1D = np.array([1,2,3,4,5])\n",
    "print(arr1D, type(arr1D))"
   ]
  },
  {
   "cell_type": "code",
   "execution_count": 16,
   "id": "61a38df4-94d1-4e5f-bce5-1bd6aa252cf7",
   "metadata": {},
   "outputs": [
    {
     "name": "stdout",
     "output_type": "stream",
     "text": [
      "2D array\n",
      "[[1 2 3]\n",
      " [4 5 6]] <class 'numpy.ndarray'>\n"
     ]
    }
   ],
   "source": [
    "print(\"2D array\")  #2-D array\n",
    "arr2D = np.array([[1,2,3],[4,5,6]])\n",
    "print(arr2D, type(arr2D))"
   ]
  },
  {
   "cell_type": "code",
   "execution_count": 69,
   "id": "f3110e55-6978-4d7f-9645-032d66d80328",
   "metadata": {},
   "outputs": [
    {
     "name": "stdout",
     "output_type": "stream",
     "text": [
      "3D array\n",
      "[[[1 2]\n",
      "  [3 4]\n",
      "  [5 6]]] <class 'numpy.ndarray'>\n"
     ]
    }
   ],
   "source": [
    "print(\"3D array\")  #3-D array\n",
    "arr3D = np.array([[[1,2],[3,4],[5,6]]])\n",
    "print(arr3D, type(arr3D))"
   ]
  },
  {
   "cell_type": "code",
   "execution_count": 22,
   "id": "aa59c31e-4ffd-4e46-8d1b-e9ef31fb6ae3",
   "metadata": {},
   "outputs": [
    {
     "name": "stdout",
     "output_type": "stream",
     "text": [
      "\n",
      " ---> attributes of arrays:\n",
      "\n",
      "1)size \n",
      "2)shape \n",
      "3)dtype \n",
      "4)ndim\n"
     ]
    }
   ],
   "source": [
    "print(\"\\n ---> attributes of arrays:\")\n",
    "print(\"\\n1)size \\n2)shape \\n3)dtype \\n4)ndim\")"
   ]
  },
  {
   "cell_type": "code",
   "execution_count": 23,
   "id": "32e7ca55-378b-4397-8133-e4ed3c563ce2",
   "metadata": {},
   "outputs": [
    {
     "name": "stdout",
     "output_type": "stream",
     "text": [
      "1)size : it return number of element array contain\n"
     ]
    }
   ],
   "source": [
    "print(\"1)size : it return number of element array contain\")"
   ]
  },
  {
   "cell_type": "code",
   "execution_count": 37,
   "id": "8c72311b-2599-4195-afe5-6b9028037ded",
   "metadata": {},
   "outputs": [
    {
     "name": "stdout",
     "output_type": "stream",
     "text": [
      "[1 2 3 4 5]\n",
      "size is: 5\n",
      "length is: 5\n"
     ]
    }
   ],
   "source": [
    "arr1D = np.array([1,2,3,4,5])  # size work same as length\n",
    "print(arr1D)\n",
    "print(\"size is:\",arr1D.size)\n",
    "print(\"length is:\",len(arr1D))"
   ]
  },
  {
   "cell_type": "code",
   "execution_count": 38,
   "id": "678bcc9a-7bce-4e7e-bafb-626921715bea",
   "metadata": {},
   "outputs": [
    {
     "name": "stdout",
     "output_type": "stream",
     "text": [
      "2D array\n",
      "[[1 2 3]\n",
      " [4 5 6]]\n",
      "size is: 6\n"
     ]
    }
   ],
   "source": [
    "print(\"2D array\")\n",
    "arr2D = np.array([[1,2,3],[4,5,6]])\n",
    "print(arr2D)\n",
    "print(\"size is:\",arr2D.size)"
   ]
  },
  {
   "cell_type": "code",
   "execution_count": 70,
   "id": "11af9963-fe0e-4bab-84e8-c83bceb438e6",
   "metadata": {},
   "outputs": [
    {
     "name": "stdout",
     "output_type": "stream",
     "text": [
      "3D array\n",
      "[[[1 2]\n",
      "  [3 4]\n",
      "  [5 6]]]\n",
      "size is: 6\n"
     ]
    }
   ],
   "source": [
    "print(\"3D array\")\n",
    "arr3D = np.array([[[1,2],[3,4],[5,6]]])\n",
    "print(arr3D)\n",
    "print(\"size is:\", arr3D.size)"
   ]
  },
  {
   "cell_type": "code",
   "execution_count": 77,
   "id": "9ba3c37c-010a-47a5-8d05-d5bf7b7cc6d1",
   "metadata": {},
   "outputs": [
    {
     "name": "stdout",
     "output_type": "stream",
     "text": [
      "shape:- it return tuple of one or more element \n",
      "---it return number of rows and column\n"
     ]
    }
   ],
   "source": [
    "print(\"shape:- it return tuple of one or more element \")\n",
    "print(\"---it return number of rows and column\")"
   ]
  },
  {
   "cell_type": "code",
   "execution_count": 72,
   "id": "d7a8c97d-c9db-40c9-aced-349e8c19a675",
   "metadata": {},
   "outputs": [
    {
     "name": "stdout",
     "output_type": "stream",
     "text": [
      "[1 2 3 4 5 6]\n"
     ]
    },
    {
     "data": {
      "text/plain": [
       "(6,)"
      ]
     },
     "execution_count": 72,
     "metadata": {},
     "output_type": "execute_result"
    }
   ],
   "source": [
    "arr1D = np.array([1,2,3,4,5,6]) \n",
    "print(arr1D)\n",
    "arr1D.shape"
   ]
  },
  {
   "cell_type": "code",
   "execution_count": 73,
   "id": "592f55c1-c008-495c-9a26-8e558cb8d1d8",
   "metadata": {},
   "outputs": [
    {
     "name": "stdout",
     "output_type": "stream",
     "text": [
      "[[1 2 3]\n",
      " [4 5 6]]\n"
     ]
    },
    {
     "data": {
      "text/plain": [
       "(2, 3)"
      ]
     },
     "execution_count": 73,
     "metadata": {},
     "output_type": "execute_result"
    }
   ],
   "source": [
    "arr2D = np.array([[1,2,3],  # 2 is a number of row\n",
    "                  [4,5,6]]) # 3 is a number of column\n",
    "print(arr2D)\n",
    "arr2D.shape"
   ]
  },
  {
   "cell_type": "code",
   "execution_count": 79,
   "id": "044fb065-eda7-484c-8633-263a73b0e783",
   "metadata": {},
   "outputs": [
    {
     "name": "stdout",
     "output_type": "stream",
     "text": [
      "[[1 2]\n",
      " [3 4]\n",
      " [5 6]]\n"
     ]
    },
    {
     "data": {
      "text/plain": [
       "(3, 2)"
      ]
     },
     "execution_count": 79,
     "metadata": {},
     "output_type": "execute_result"
    }
   ],
   "source": [
    "arr3D = np.array([[1, 2],\n",
    "                  [3, 4],\n",
    "                  [5, 6]]) \n",
    "                        # 3 is a number of row\n",
    "print(arr3D)            # 2 is a number of column\n",
    "arr3D.shape"
   ]
  },
  {
   "cell_type": "code",
   "execution_count": 82,
   "id": "cb498e57-2dff-48e0-8aa1-489b7b923f7d",
   "metadata": {},
   "outputs": [
    {
     "name": "stdout",
     "output_type": "stream",
     "text": [
      "[[[1 2 3]\n",
      "  [4 5 6]]]\n"
     ]
    },
    {
     "data": {
      "text/plain": [
       "(1, 2, 3)"
      ]
     },
     "execution_count": 82,
     "metadata": {},
     "output_type": "execute_result"
    }
   ],
   "source": [
    "arr = np.array([[[1,2,3],\n",
    "                 [4,5,6]]]) # 1 is a layer\n",
    "                            # 2 is a row\n",
    "                            # 3 is a column\n",
    "print(arr)\n",
    "arr.shape"
   ]
  },
  {
   "cell_type": "code",
   "execution_count": 90,
   "id": "da7bd2f4-a4fe-464f-b6eb-29c47dc0c695",
   "metadata": {},
   "outputs": [
    {
     "name": "stdout",
     "output_type": "stream",
     "text": [
      "dtype: it return size depends on system\n"
     ]
    }
   ],
   "source": [
    "print(\"dtype: it return size depends on system\")"
   ]
  },
  {
   "cell_type": "code",
   "execution_count": 99,
   "id": "2a38d69c-381a-49b3-a95d-f0867c0a0057",
   "metadata": {},
   "outputs": [
    {
     "data": {
      "text/plain": [
       "dtype('int64')"
      ]
     },
     "execution_count": 99,
     "metadata": {},
     "output_type": "execute_result"
    }
   ],
   "source": [
    "arr1 = np.array([1,2,3,4,5])\n",
    "arr1.dtype"
   ]
  },
  {
   "cell_type": "code",
   "execution_count": 109,
   "id": "8b3f616c-c248-4f5b-963b-2f62b7cc7bd8",
   "metadata": {},
   "outputs": [
    {
     "name": "stdout",
     "output_type": "stream",
     "text": [
      "ndim:\n"
     ]
    }
   ],
   "source": [
    "print(\"ndim:\")"
   ]
  },
  {
   "cell_type": "code",
   "execution_count": 116,
   "id": "3a56dd48-91f5-4f5b-8336-92c44f6a691b",
   "metadata": {},
   "outputs": [
    {
     "data": {
      "text/plain": [
       "1"
      ]
     },
     "execution_count": 116,
     "metadata": {},
     "output_type": "execute_result"
    }
   ],
   "source": [
    "x = np.array([55,4,2,4])\n",
    "x.ndim\n"
   ]
  },
  {
   "cell_type": "code",
   "execution_count": null,
   "id": "3f77b8b8-508b-41c5-aaa4-af9891e844da",
   "metadata": {},
   "outputs": [],
   "source": []
  }
 ],
 "metadata": {
  "kernelspec": {
   "display_name": "Python [conda env:base] *",
   "language": "python",
   "name": "conda-base-py"
  },
  "language_info": {
   "codemirror_mode": {
    "name": "ipython",
    "version": 3
   },
   "file_extension": ".py",
   "mimetype": "text/x-python",
   "name": "python",
   "nbconvert_exporter": "python",
   "pygments_lexer": "ipython3",
   "version": "3.13.5"
  }
 },
 "nbformat": 4,
 "nbformat_minor": 5
}
