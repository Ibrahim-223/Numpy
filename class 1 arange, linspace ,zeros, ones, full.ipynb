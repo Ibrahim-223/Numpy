{
 "cells": [
  {
   "cell_type": "code",
   "execution_count": null,
   "id": "fa613281-dc53-4ac1-9edf-c65a5b6238d8",
   "metadata": {},
   "outputs": [],
   "source": []
  }
 ],
 "metadata": {
  "kernelspec": {
   "display_name": "",
   "name": ""
  },
  "language_info": {
   "name": ""
  }
 },
 "nbformat": 4,
 "nbformat_minor": 5
}
